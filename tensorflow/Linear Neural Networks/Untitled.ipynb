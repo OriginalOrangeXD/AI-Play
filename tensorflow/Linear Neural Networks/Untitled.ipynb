{
 "cells": [
  {
   "cell_type": "code",
   "execution_count": 1,
   "id": "unlikely-twins",
   "metadata": {},
   "outputs": [],
   "source": [
    "import numpy as np\n",
    "import tensorflow as tf\n",
    "from d2l import tensorflow as d2l\n",
    "\n",
    "true_w = tf.constant([2,-3.4])\n",
    "true_b = 4.2\n",
    "features, labels = d2l.synthetic_data(true_w, true_b, 1000)"
   ]
  },
  {
   "cell_type": "code",
   "execution_count": 2,
   "id": "elegant-outside",
   "metadata": {},
   "outputs": [],
   "source": [
    "def load_array(data_arrays, batch_size, is_train=True): #@save\n",
    "    dataset = tf.data.Dataset.from_tensor_slices(data_arrays)\n",
    "    if is_train:\n",
    "        dataset = dataset.shuffle(buffer_size=1000)\n",
    "    dataset = dataset.batch(batch_size)\n",
    "    return dataset\n",
    "\n",
    "batch_size = 10\n",
    "data_iter = load_array((features, labels), batch_size)"
   ]
  },
  {
   "cell_type": "code",
   "execution_count": 3,
   "id": "dominant-union",
   "metadata": {},
   "outputs": [
    {
     "data": {
      "text/plain": [
       "(<tf.Tensor: shape=(10, 2), dtype=float32, numpy=\n",
       " array([[-1.2371502 ,  0.99518913],\n",
       "        [ 0.12846069, -0.41475955],\n",
       "        [-1.3619866 , -1.509596  ],\n",
       "        [-0.302899  ,  0.591555  ],\n",
       "        [-0.09313672,  0.05970319],\n",
       "        [ 1.1874565 ,  1.5697803 ],\n",
       "        [-1.0883249 , -0.77193904],\n",
       "        [-0.7558182 ,  1.1483127 ],\n",
       "        [ 1.104224  ,  1.9984574 ],\n",
       "        [-1.4291492 ,  0.320298  ]], dtype=float32)>,\n",
       " <tf.Tensor: shape=(10, 1), dtype=float32, numpy=\n",
       " array([[-1.6643847 ],\n",
       "        [ 5.8524637 ],\n",
       "        [ 6.62237   ],\n",
       "        [ 1.577179  ],\n",
       "        [ 3.8127222 ],\n",
       "        [ 1.2514818 ],\n",
       "        [ 4.654276  ],\n",
       "        [-1.1983638 ],\n",
       "        [-0.38890553],\n",
       "        [ 0.24384072]], dtype=float32)>)"
      ]
     },
     "execution_count": 3,
     "metadata": {},
     "output_type": "execute_result"
    }
   ],
   "source": [
    "next(iter(data_iter))"
   ]
  },
  {
   "cell_type": "code",
   "execution_count": 15,
   "id": "trying-victim",
   "metadata": {},
   "outputs": [],
   "source": [
    "initializer = tf.initializers.RandomNormal(stddev=0.01)\n",
    "net = tf.keras.Sequential()\n",
    "net.add(tf.keras.layers.Dense(1,kernel_initializer=initializer))\n",
    "\n",
    "loss = tf.keras.losses.Huber()"
   ]
  },
  {
   "cell_type": "code",
   "execution_count": 7,
   "id": "turned-anthony",
   "metadata": {},
   "outputs": [],
   "source": [
    "trainer = tf.keras.optimizers.SGD(learning_rate=0.03)"
   ]
  },
  {
   "cell_type": "code",
   "execution_count": 16,
   "id": "institutional-county",
   "metadata": {},
   "outputs": [
    {
     "name": "stdout",
     "output_type": "stream",
     "text": [
      "epoch 1, loss2.218774\n",
      "epoch 2, loss0.476817\n",
      "epoch 3, loss0.002318\n"
     ]
    }
   ],
   "source": [
    "num_epochs = 3\n",
    "for epoch in range(num_epochs):\n",
    "    for X,y in data_iter:\n",
    "        with tf.GradientTape() as tape:\n",
    "            l = loss(net(X, training=True), y)\n",
    "        grads = tape.gradient(l, net.trainable_variables)\n",
    "        trainer.apply_gradients(zip(grads, net.trainable_variables))\n",
    "    l=loss(net(features), labels)\n",
    "    print(f'epoch {epoch+1}, loss{l:f}')"
   ]
  },
  {
   "cell_type": "code",
   "execution_count": 17,
   "id": "collaborative-origin",
   "metadata": {},
   "outputs": [
    {
     "name": "stdout",
     "output_type": "stream",
     "text": [
      "error in estimating w tf.Tensor([ 0.02782953 -0.0465219 ], shape=(2,), dtype=float32)\n",
      "error in estimating b [0.04267073]\n"
     ]
    }
   ],
   "source": [
    "w = net.get_weights()[0]\n",
    "print('error in estimating w', true_w - tf.reshape(w, true_w.shape))\n",
    "b = net.get_weights()[1]\n",
    "print('error in estimating b', true_b - b)"
   ]
  },
  {
   "cell_type": "code",
   "execution_count": null,
   "id": "mathematical-threat",
   "metadata": {},
   "outputs": [],
   "source": []
  }
 ],
 "metadata": {
  "kernelspec": {
   "display_name": "Python 3",
   "language": "python",
   "name": "python3"
  },
  "language_info": {
   "codemirror_mode": {
    "name": "ipython",
    "version": 3
   },
   "file_extension": ".py",
   "mimetype": "text/x-python",
   "name": "python",
   "nbconvert_exporter": "python",
   "pygments_lexer": "ipython3",
   "version": "3.8.8"
  }
 },
 "nbformat": 4,
 "nbformat_minor": 5
}
